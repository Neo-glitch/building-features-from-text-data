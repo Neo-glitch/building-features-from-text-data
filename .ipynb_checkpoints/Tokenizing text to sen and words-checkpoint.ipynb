{
 "cells": [
  {
   "cell_type": "code",
   "execution_count": 1,
   "metadata": {},
   "outputs": [],
   "source": [
    "#1st\n",
    "\n",
    "import numpy as np\n",
    "import nltk"
   ]
  },
  {
   "cell_type": "code",
   "execution_count": 2,
   "metadata": {},
   "outputs": [
    {
     "name": "stderr",
     "output_type": "stream",
     "text": [
      "[nltk_data] Downloading package punkt to\n",
      "[nltk_data]     C:\\Users\\Neo\\AppData\\Roaming\\nltk_data...\n",
      "[nltk_data]   Unzipping tokenizers\\punkt.zip.\n"
     ]
    },
    {
     "data": {
      "text/plain": [
       "True"
      ]
     },
     "execution_count": 2,
     "metadata": {},
     "output_type": "execute_result"
    }
   ],
   "source": [
    "# download the default tokenizer\n",
    "nltk.download(\"punkt\")"
   ]
  },
  {
   "cell_type": "code",
   "execution_count": 3,
   "metadata": {},
   "outputs": [],
   "source": [
    "from nltk.tokenize import word_tokenize\n",
    "from nltk.tokenize import sent_tokenize"
   ]
  },
  {
   "cell_type": "code",
   "execution_count": 6,
   "metadata": {},
   "outputs": [
    {
     "name": "stdout",
     "output_type": "stream",
     "text": [
      "['Does this tokenizer work?', 'These is supposed to be the second sentence']\n"
     ]
    }
   ],
   "source": [
    "sent_tokens = sent_tokenize(\"Does this tokenizer work? These is supposed to be the second sentence\")\n",
    "\n",
    "print(sent_tokens)"
   ]
  },
  {
   "cell_type": "code",
   "execution_count": 7,
   "metadata": {},
   "outputs": [
    {
     "name": "stdout",
     "output_type": "stream",
     "text": [
      "['Does', 'this', 'tokenizer', 'work', '?']\n"
     ]
    }
   ],
   "source": [
    "# gets the word from sentence\n",
    "word_tokens = word_tokenize(\"Does this tokenizer work?\")\n",
    "\n",
    "print(word_tokens)"
   ]
  },
  {
   "cell_type": "code",
   "execution_count": 8,
   "metadata": {},
   "outputs": [
    {
     "name": "stdout",
     "output_type": "stream",
     "text": [
      "['A', 'bird', 'in', 'hand', 'is', 'worth', 'two', 'in', 'the', 'bush', '.', 'Good', 'thing', 'come', 'to', 'those', 'to', 'wait', '.', 'These', 'wathces', 'cost', '$', '1500', ':', 'The', 'ball', 'is', 'in', 'your', 'court', '.', 'Mr.', 'Smith', 'goes', 'to', 'Washington', 'Doogle', 'Howser', 'M.D']\n"
     ]
    }
   ],
   "source": [
    "# gets words directly from long text\n",
    "text = \"A bird in hand is worth two in the bush. \" +\\\n",
    "        \"Good thing come to those to wait. \" +\\\n",
    "        \"These wathces cost $1500: \" +\\\n",
    "        \"The ball is in your court. \" +\\\n",
    "        \"Mr. Smith goes to Washington \" +\\\n",
    "        \"Doogle Howser M.D\"\n",
    "\n",
    "word_tokens = word_tokenize(text, language = \"english\")\n",
    "print(word_tokens)"
   ]
  },
  {
   "cell_type": "code",
   "execution_count": 9,
   "metadata": {},
   "outputs": [
    {
     "data": {
      "text/plain": [
       "40"
      ]
     },
     "execution_count": 9,
     "metadata": {},
     "output_type": "execute_result"
    }
   ],
   "source": [
    "len(word_tokens)"
   ]
  },
  {
   "cell_type": "code",
   "execution_count": 11,
   "metadata": {},
   "outputs": [
    {
     "data": {
      "text/plain": [
       "['hand', 'is', 'worth', 'two', 'in']"
      ]
     },
     "execution_count": 11,
     "metadata": {},
     "output_type": "execute_result"
    }
   ],
   "source": [
    "# gets subset of the word tokens list\n",
    "word_tokens[3:8]"
   ]
  },
  {
   "cell_type": "code",
   "execution_count": 12,
   "metadata": {},
   "outputs": [],
   "source": [
    "#sentence tokenizer using punkt sentence tokenizer\n",
    "from nltk.tokenize.punkt import PunktSentenceTokenizer"
   ]
  },
  {
   "cell_type": "code",
   "execution_count": 13,
   "metadata": {},
   "outputs": [],
   "source": [
    "pst = PunktSentenceTokenizer()"
   ]
  },
  {
   "cell_type": "code",
   "execution_count": 14,
   "metadata": {},
   "outputs": [
    {
     "name": "stdout",
     "output_type": "stream",
     "text": [
      "['A bird in hand is worth two in the bush.', 'Good thing come to those to wait.', 'These wathces cost $1500: The ball is in your court.', 'Mr.', 'Smith goes to Washington Doogle Howser M.D']\n"
     ]
    }
   ],
   "source": [
    "sent_tokens = pst.tokenize(text)\n",
    "\n",
    "print(sent_tokens)"
   ]
  },
  {
   "cell_type": "code",
   "execution_count": 15,
   "metadata": {},
   "outputs": [
    {
     "name": "stdout",
     "output_type": "stream",
     "text": [
      "[(0, 40), (41, 74), (75, 127), (128, 131), (132, 174)]\n"
     ]
    }
   ],
   "source": [
    "# prints char ranges in all sentences in the resulting token including space and period\n",
    "span_tokens = pst.span_tokenize(text)\n",
    "\n",
    "print(list(span_tokens))"
   ]
  },
  {
   "cell_type": "code",
   "execution_count": 16,
   "metadata": {},
   "outputs": [
    {
     "data": {
      "text/plain": [
       "[['A', 'bird', 'in', 'hand', 'is', 'worth', 'two', 'in', 'the', 'bush', '.'],\n",
       " ['Good', 'thing', 'come', 'to', 'those', 'to', 'wait', '.'],\n",
       " ['These',\n",
       "  'wathces',\n",
       "  'cost',\n",
       "  '$',\n",
       "  '1500',\n",
       "  ':',\n",
       "  'The',\n",
       "  'ball',\n",
       "  'is',\n",
       "  'in',\n",
       "  'your',\n",
       "  'court',\n",
       "  '.'],\n",
       " ['Mr.'],\n",
       " ['Smith', 'goes', 'to', 'Washington', 'Doogle', 'Howser', 'M.D']]"
      ]
     },
     "execution_count": 16,
     "metadata": {},
     "output_type": "execute_result"
    }
   ],
   "source": [
    "# triees to recrete sentences from works tokens using our trained punkt tokenizer\n",
    "sentences = pst.sentences_from_tokens(word_tokens)\n",
    "\n",
    "list(sentences)"
   ]
  },
  {
   "cell_type": "code",
   "execution_count": 17,
   "metadata": {},
   "outputs": [],
   "source": [
    "# alt way if tokenizing texts based on whitespace, i.e grouping base on white space\n",
    "from nltk.tokenize import WhitespaceTokenizer\n",
    "\n",
    "wt = WhitespaceTokenizer()"
   ]
  },
  {
   "cell_type": "code",
   "execution_count": 18,
   "metadata": {},
   "outputs": [
    {
     "name": "stdout",
     "output_type": "stream",
     "text": [
      "['A', 'bird', 'in', 'hand', 'is', 'worth', 'two', 'in', 'the', 'bush.', 'Good', 'thing', 'come', 'to', 'those', 'to', 'wait.', 'These', 'wathces', 'cost', '$1500:', 'The', 'ball', 'is', 'in', 'your', 'court.', 'Mr.', 'Smith', 'goes', 'to', 'Washington', 'Doogle', 'Howser', 'M.D']\n"
     ]
    }
   ],
   "source": [
    "word_tokens = wt.tokenize(text)\n",
    "\n",
    "print(word_tokens)"
   ]
  },
  {
   "cell_type": "markdown",
   "metadata": {},
   "source": [
    "***\n",
    "**Getting text from a file**"
   ]
  },
  {
   "cell_type": "code",
   "execution_count": 20,
   "metadata": {},
   "outputs": [
    {
     "name": "stdout",
     "output_type": "stream",
     "text": [
      "Marie SkÅ‚odowska Curie  born Maria Salomea SkÅ‚odowska , was a Polish and naturalized-French physicist and chemist who conducted pioneering research on radioactivity. As the first of the Curie family legacy of five Nobel Prizes, she was the first woman to win a Nobel Prize, the first person and the only woman to win the Nobel Prize twice, and the only person to win the Nobel Prize in two scientific fields. She was the first woman to become a professor at the University of Paris in 1906.[4]\n",
      "\n",
      "She was born in Warsaw, in what was then the Kingdom of Poland, part of the Russian Empire. She studied at Warsaw's clandestine Flying University and began her practical scientific training in Warsaw. In 1891, aged 24, she followed her elder sister BronisÅ‚awa to study in Paris, where she earned her higher degrees and conducted her subsequent scientific work. In 1895 she married the French physicist Pierre Curie, and she shared the 1903 Nobel Prize in Physics with him and with the physicist Henri Becquerel for their pioneering work developing the theory of \"radioactivity\"â€”a term she coined.[5][6] In 1906 Pierre Curie died in a Paris street accident. Marie won the 1911 Nobel Prize in Chemistry for her discovery of the elements polonium and radium, using techniques she invented for isolating radioactive isotopes.\n",
      "\n",
      "Under her direction, the world's first studies were conducted into the treatment of neoplasms by the use of radioactive isotopes. In 1920 she founded the Curie Institute in Paris, and in 1932 the Curie Institute in Warsaw; both remain major centres of medical research. During World War I she developed mobile radiography units to provide X-ray services to field hospitals. While a French citizen, Marie SkÅ‚odowska Curie, who used both surnames,[7][8] never lost her sense of Polish identity. She taught her daughters the Polish language and took them on visits to Poland.[9] She named the first chemical element she discovered polonium, after her native country.[a]\n",
      "\n",
      "Marie Curie died in 1934, aged 66, at the Sancellemoz sanatorium in Passy (Haute-Savoie), France, of aplastic anaemia from exposure to radiation in the course of her scientific research and in the course of her radiological work at field hospitals during World War I.[11] In addition to her Nobel Prizes, she has received numerous other honours and tributes; in 1995 she became the first woman to be entombed on her own merits in Paris' PanthÃ©on,[12] and Poland and France declared 2011 as the Year of Marie Curie during the International Year of Chemistry. She is the subject of numerous biographical works, where she is also known as Madame Curie. \n"
     ]
    }
   ],
   "source": [
    "with open(\"./datasets/biography.txt\", \"r\") as file:\n",
    "    file_contents = file.read()\n",
    "    \n",
    "print(file_contents)"
   ]
  },
  {
   "cell_type": "code",
   "execution_count": 23,
   "metadata": {},
   "outputs": [
    {
     "name": "stdout",
     "output_type": "stream",
     "text": [
      "['Marie', 'SkÅ‚odowska', 'Curie', 'born', 'Maria', 'Salomea', 'SkÅ‚odowska', ',', 'was', 'a', 'Polish', 'and', 'naturalized-French', 'physicist', 'and', 'chemist', 'who', 'conducted', 'pioneering', 'research', 'on', 'radioactivity', '.', 'As', 'the', 'first', 'of', 'the', 'Curie', 'family', 'legacy', 'of', 'five', 'Nobel', 'Prizes', ',', 'she', 'was', 'the', 'first', 'woman', 'to', 'win', 'a', 'Nobel', 'Prize', ',', 'the', 'first', 'person', 'and', 'the', 'only', 'woman', 'to', 'win', 'the', 'Nobel', 'Prize', 'twice', ',', 'and', 'the', 'only', 'person', 'to', 'win', 'the', 'Nobel', 'Prize', 'in', 'two', 'scientific', 'fields', '.', 'She', 'was', 'the', 'first', 'woman', 'to', 'become', 'a', 'professor', 'at', 'the', 'University', 'of', 'Paris', 'in', '1906', '.', '[', '4', ']', 'She', 'was', 'born', 'in', 'Warsaw', ',', 'in', 'what', 'was', 'then', 'the', 'Kingdom', 'of', 'Poland', ',', 'part', 'of', 'the', 'Russian', 'Empire', '.', 'She', 'studied', 'at', 'Warsaw', \"'s\", 'clandestine', 'Flying', 'University', 'and', 'began', 'her', 'practical', 'scientific', 'training', 'in', 'Warsaw', '.', 'In', '1891', ',', 'aged', '24', ',', 'she', 'followed', 'her', 'elder', 'sister', 'BronisÅ‚awa', 'to', 'study', 'in', 'Paris', ',', 'where', 'she', 'earned', 'her', 'higher', 'degrees', 'and', 'conducted', 'her', 'subsequent', 'scientific', 'work', '.', 'In', '1895', 'she', 'married', 'the', 'French', 'physicist', 'Pierre', 'Curie', ',', 'and', 'she', 'shared', 'the', '1903', 'Nobel', 'Prize', 'in', 'Physics', 'with', 'him', 'and', 'with', 'the', 'physicist', 'Henri', 'Becquerel', 'for', 'their', 'pioneering', 'work', 'developing', 'the', 'theory', 'of', '``', 'radioactivity', \"''\", 'â€', '”', 'a', 'term', 'she', 'coined', '.', '[', '5', ']', '[', '6', ']', 'In', '1906', 'Pierre', 'Curie', 'died', 'in', 'a', 'Paris', 'street', 'accident', '.', 'Marie', 'won', 'the', '1911', 'Nobel', 'Prize', 'in', 'Chemistry', 'for', 'her', 'discovery', 'of', 'the', 'elements', 'polonium', 'and', 'radium', ',', 'using', 'techniques', 'she', 'invented', 'for', 'isolating', 'radioactive', 'isotopes', '.', 'Under', 'her', 'direction', ',', 'the', 'world', \"'s\", 'first', 'studies', 'were', 'conducted', 'into', 'the', 'treatment', 'of', 'neoplasms', 'by', 'the', 'use', 'of', 'radioactive', 'isotopes', '.', 'In', '1920', 'she', 'founded', 'the', 'Curie', 'Institute', 'in', 'Paris', ',', 'and', 'in', '1932', 'the', 'Curie', 'Institute', 'in', 'Warsaw', ';', 'both', 'remain', 'major', 'centres', 'of', 'medical', 'research', '.', 'During', 'World', 'War', 'I', 'she', 'developed', 'mobile', 'radiography', 'units', 'to', 'provide', 'X-ray', 'services', 'to', 'field', 'hospitals', '.', 'While', 'a', 'French', 'citizen', ',', 'Marie', 'SkÅ‚odowska', 'Curie', ',', 'who', 'used', 'both', 'surnames', ',', '[', '7', ']', '[', '8', ']', 'never', 'lost', 'her', 'sense', 'of', 'Polish', 'identity', '.', 'She', 'taught', 'her', 'daughters', 'the', 'Polish', 'language', 'and', 'took', 'them', 'on', 'visits', 'to', 'Poland', '.', '[', '9', ']', 'She', 'named', 'the', 'first', 'chemical', 'element', 'she', 'discovered', 'polonium', ',', 'after', 'her', 'native', 'country', '.', '[', 'a', ']', 'Marie', 'Curie', 'died', 'in', '1934', ',', 'aged', '66', ',', 'at', 'the', 'Sancellemoz', 'sanatorium', 'in', 'Passy', '(', 'Haute-Savoie', ')', ',', 'France', ',', 'of', 'aplastic', 'anaemia', 'from', 'exposure', 'to', 'radiation', 'in', 'the', 'course', 'of', 'her', 'scientific', 'research', 'and', 'in', 'the', 'course', 'of', 'her', 'radiological', 'work', 'at', 'field', 'hospitals', 'during', 'World', 'War', 'I', '.', '[', '11', ']', 'In', 'addition', 'to', 'her', 'Nobel', 'Prizes', ',', 'she', 'has', 'received', 'numerous', 'other', 'honours', 'and', 'tributes', ';', 'in', '1995', 'she', 'became', 'the', 'first', 'woman', 'to', 'be', 'entombed', 'on', 'her', 'own', 'merits', 'in', 'Paris', \"'\", 'PanthÃ©on', ',', '[', '12', ']', 'and', 'Poland', 'and', 'France', 'declared', '2011', 'as', 'the', 'Year', 'of', 'Marie', 'Curie', 'during', 'the', 'International', 'Year', 'of', 'Chemistry', '.', 'She', 'is', 'the', 'subject', 'of', 'numerous', 'biographical', 'works', ',', 'where', 'she', 'is', 'also', 'known', 'as', 'Madame', 'Curie', '.']\n"
     ]
    }
   ],
   "source": [
    "word_tokens = word_tokenize(file_contents)\n",
    "\n",
    "print(word_tokens)"
   ]
  },
  {
   "cell_type": "code",
   "execution_count": 24,
   "metadata": {},
   "outputs": [
    {
     "data": {
      "text/plain": [
       "512"
      ]
     },
     "execution_count": 24,
     "metadata": {},
     "output_type": "execute_result"
    }
   ],
   "source": [
    "len(word_tokens)"
   ]
  },
  {
   "cell_type": "markdown",
   "metadata": {},
   "source": [
    "**View stat data about tokenized words**"
   ]
  },
  {
   "cell_type": "code",
   "execution_count": 25,
   "metadata": {},
   "outputs": [],
   "source": [
    "from nltk.probability import FreqDist"
   ]
  },
  {
   "cell_type": "code",
   "execution_count": 27,
   "metadata": {},
   "outputs": [
    {
     "name": "stdout",
     "output_type": "stream",
     "text": [
      "<FreqDist with 225 samples and 512 outcomes>\n"
     ]
    }
   ],
   "source": [
    "freq_dist = FreqDist(word_tokens)\n",
    "\n",
    "print(freq_dist)  # prints number of unique words and their occurence"
   ]
  },
  {
   "cell_type": "code",
   "execution_count": 30,
   "metadata": {},
   "outputs": [
    {
     "data": {
      "text/plain": [
       "[('the', 32),\n",
       " (',', 24),\n",
       " ('.', 18),\n",
       " ('in', 18),\n",
       " ('of', 17),\n",
       " ('and', 15),\n",
       " ('she', 13),\n",
       " ('her', 13),\n",
       " ('to', 11),\n",
       " ('Curie', 10),\n",
       " ('[', 9),\n",
       " (']', 9),\n",
       " ('a', 7),\n",
       " ('first', 7),\n",
       " ('Nobel', 7),\n",
       " ('She', 6),\n",
       " ('Marie', 5),\n",
       " ('was', 5),\n",
       " ('Prize', 5),\n",
       " ('Paris', 5)]"
      ]
     },
     "execution_count": 30,
     "metadata": {},
     "output_type": "execute_result"
    }
   ],
   "source": [
    "# gets top most common words\n",
    "freq_dist.most_common(20)"
   ]
  },
  {
   "cell_type": "code",
   "execution_count": 31,
   "metadata": {},
   "outputs": [
    {
     "data": {
      "text/plain": [
       "0.0625"
      ]
     },
     "execution_count": 31,
     "metadata": {},
     "output_type": "execute_result"
    }
   ],
   "source": [
    "# gets freq of just a word  (count word occurs/ total num of words)\n",
    "freq_dist.freq(\"the\")"
   ]
  },
  {
   "cell_type": "code",
   "execution_count": 33,
   "metadata": {},
   "outputs": [
    {
     "data": {
      "image/png": "[encoded data removed]",
      "text/plain": [
       "<Figure size 576x576 with 1 Axes>"
      ]
     },
     "metadata": {
      "needs_background": "light"
     },
     "output_type": "display_data"
    }
   ],
   "source": [
    "import matplotlib.pyplot as plt\n",
    "\n",
    "fig, ax = plt.subplots(figsize = (8, 8))\n",
    "\n",
    "freq_dist.plot(20, cumulative = False)\n",
    "\n",
    "plt.show();"
   ]
  },
  {
   "cell_type": "code",
   "execution_count": 34,
   "metadata": {},
   "outputs": [
    {
     "name": "stdout",
     "output_type": "stream",
     "text": [
      "['marie', 'skå‚odowska', 'curie', 'born', 'maria', 'salomea', 'skå‚odowska', ',', 'was', 'a', 'polish', 'and', 'naturalized-french', 'physicist', 'and', 'chemist', 'who', 'conducted', 'pioneering', 'research', 'on', 'radioactivity.', 'as', 'the', 'first', 'of', 'the', 'curie', 'family', 'legacy', 'of', 'five', 'nobel', 'prizes,', 'she', 'was', 'the', 'first', 'woman', 'to', 'win', 'a', 'nobel', 'prize,', 'the', 'first', 'person', 'and', 'the', 'only', 'woman', 'to', 'win', 'the', 'nobel', 'prize', 'twice,', 'and', 'the', 'only', 'person', 'to', 'win', 'the', 'nobel', 'prize', 'in', 'two', 'scientific', 'fields.', 'she', 'was', 'the', 'first', 'woman', 'to', 'become', 'a', 'professor', 'at', 'the', 'university', 'of', 'paris', 'in', '1906.[4]', 'she', 'was', 'born', 'in', 'warsaw,', 'in', 'what', 'was', 'then', 'the', 'kingdom', 'of', 'poland,', 'part', 'of', 'the', 'russian', 'empire.', 'she', 'studied', 'at', \"warsaw's\", 'clandestine', 'flying', 'university', 'and', 'began', 'her', 'practical', 'scientific', 'training', 'in', 'warsaw.', 'in', '1891,', 'aged', '24,', 'she', 'followed', 'her', 'elder', 'sister', 'broniså‚awa', 'to', 'study', 'in', 'paris,', 'where', 'she', 'earned', 'her', 'higher', 'degrees', 'and', 'conducted', 'her', 'subsequent', 'scientific', 'work.', 'in', '1895', 'she', 'married', 'the', 'french', 'physicist', 'pierre', 'curie,', 'and', 'she', 'shared', 'the', '1903', 'nobel', 'prize', 'in', 'physics', 'with', 'him', 'and', 'with', 'the', 'physicist', 'henri', 'becquerel', 'for', 'their', 'pioneering', 'work', 'developing', 'the', 'theory', 'of', '\"radioactivity\"â€”a', 'term', 'she', 'coined.[5][6]', 'in', '1906', 'pierre', 'curie', 'died', 'in', 'a', 'paris', 'street', 'accident.', 'marie', 'won', 'the', '1911', 'nobel', 'prize', 'in', 'chemistry', 'for', 'her', 'discovery', 'of', 'the', 'elements', 'polonium', 'and', 'radium,', 'using', 'techniques', 'she', 'invented', 'for', 'isolating', 'radioactive', 'isotopes.', 'under', 'her', 'direction,', 'the', \"world's\", 'first', 'studies', 'were', 'conducted', 'into', 'the', 'treatment', 'of', 'neoplasms', 'by', 'the', 'use', 'of', 'radioactive', 'isotopes.', 'in', '1920', 'she', 'founded', 'the', 'curie', 'institute', 'in', 'paris,', 'and', 'in', '1932', 'the', 'curie', 'institute', 'in', 'warsaw;', 'both', 'remain', 'major', 'centres', 'of', 'medical', 'research.', 'during', 'world', 'war', 'i', 'she', 'developed', 'mobile', 'radiography', 'units', 'to', 'provide', 'x-ray', 'services', 'to', 'field', 'hospitals.', 'while', 'a', 'french', 'citizen,', 'marie', 'skå‚odowska', 'curie,', 'who', 'used', 'both', 'surnames,[7][8]', 'never', 'lost', 'her', 'sense', 'of', 'polish', 'identity.', 'she', 'taught', 'her', 'daughters', 'the', 'polish', 'language', 'and', 'took', 'them', 'on', 'visits', 'to', 'poland.[9]', 'she', 'named', 'the', 'first', 'chemical', 'element', 'she', 'discovered', 'polonium,', 'after', 'her', 'native', 'country.[a]', 'marie', 'curie', 'died', 'in', '1934,', 'aged', '66,', 'at', 'the', 'sancellemoz', 'sanatorium', 'in', 'passy', '(haute-savoie),', 'france,', 'of', 'aplastic', 'anaemia', 'from', 'exposure', 'to', 'radiation', 'in', 'the', 'course', 'of', 'her', 'scientific', 'research', 'and', 'in', 'the', 'course', 'of', 'her', 'radiological', 'work', 'at', 'field', 'hospitals', 'during', 'world', 'war', 'i.[11]', 'in', 'addition', 'to', 'her', 'nobel', 'prizes,', 'she', 'has', 'received', 'numerous', 'other', 'honours', 'and', 'tributes;', 'in', '1995', 'she', 'became', 'the', 'first', 'woman', 'to', 'be', 'entombed', 'on', 'her', 'own', 'merits', 'in', \"paris'\", 'panthã©on,[12]', 'and', 'poland', 'and', 'france', 'declared', '2011', 'as', 'the', 'year', 'of', 'marie', 'curie', 'during', 'the', 'international', 'year', 'of', 'chemistry.', 'she', 'is', 'the', 'subject', 'of', 'numerous', 'biographical', 'works,', 'where', 'she', 'is', 'also', 'known', 'as', 'madame', 'curie.']\n"
     ]
    }
   ],
   "source": [
    "# preprocess data again before getting freq dist\n",
    "file_contents = file_contents.lower()  # lower case coversion\n",
    "\n",
    "word_tokens = wt.tokenize(file_contents)\n",
    "\n",
    "print(word_tokens)"
   ]
  },
  {
   "cell_type": "code",
   "execution_count": 35,
   "metadata": {},
   "outputs": [
    {
     "name": "stderr",
     "output_type": "stream",
     "text": [
      "[nltk_data] Downloading package stopwords to\n",
      "[nltk_data]     C:\\Users\\Neo\\AppData\\Roaming\\nltk_data...\n",
      "[nltk_data]   Unzipping corpora\\stopwords.zip.\n"
     ]
    },
    {
     "data": {
      "text/plain": [
       "True"
      ]
     },
     "execution_count": 35,
     "metadata": {},
     "output_type": "execute_result"
    }
   ],
   "source": [
    "nltk.download(\"stopwords\")  # download stop words lib to filter stopwords like 'or', 'the'"
   ]
  },
  {
   "cell_type": "code",
   "execution_count": 36,
   "metadata": {},
   "outputs": [],
   "source": [
    "from nltk.corpus import stopwords"
   ]
  },
  {
   "cell_type": "code",
   "execution_count": 38,
   "metadata": {},
   "outputs": [
    {
     "name": "stdout",
     "output_type": "stream",
     "text": [
      "{'those', 'this', 'can', 've', \"doesn't\", 'by', 'now', 'having', 'as', '.', 'while', \"you've\", 'himself', 'if', \"you're\", 'same', 'with', 'own', 'mustn', 'only', 'just', 'was', 'against', 'The', 'then', 'wasn', 'any', 'her', \"wasn't\", 'o', 'had', 'myself', \"needn't\", 'there', 'from', \"she's\", 'been', \"won't\", 'your', 'his', 'shouldn', 'to', \"didn't\", 'my', 'being', 'yourself', 'wouldn', 'through', 'not', 's', 'him', 'didn', 'between', \"weren't\", 'couldn', 'these', 'more', 'll', 'ours', 'again', 'yourselves', 'should', 'here', 'ma', 'weren', 'd', 'all', 'the', 'what', 'during', 'for', \"should've\", 'our', 'into', 'up', 'which', 'does', 'once', 'but', 'itself', 'm', 'y', \"you'd\", 'ain', 'haven', 'themselves', 'do', 'it', \"you'll\", 'hers', 'he', 'such', 'theirs', 'above', 'i', 'or', 'me', 'on', \"mightn't\", 'how', 'no', 'hadn', 'hasn', \"aren't\", 'herself', 'ourselves', 'its', 'of', 'until', 'doesn', 'down', 'both', 'under', ',', 'are', 'isn', 'an', 'and', 'why', 'a', 'when', 'them', \"that'll\", 'they', 'before', 'needn', 'who', 'that', 'so', 'further', \"haven't\", 'very', 't', \"it's\", 'have', 'be', 'won', 'off', 'is', 'than', 'below', \"hadn't\", 'most', \"shouldn't\", 'over', 'yours', 'don', 're', 'she', \"wouldn't\", 'we', 'because', 'shan', 'has', 'about', \"shan't\", 'doing', \"hasn't\", 'each', 'mightn', \"couldn't\", 'did', 'aren', 'too', \"isn't\", 'you', 'few', 'their', 'where', 'nor', \"mustn't\", 'whom', 'am', 'were', \"don't\", 'will', 'in', 'after', 'out', 'at', 'some', 'other'}\n"
     ]
    }
   ],
   "source": [
    "stop_words = set(stopwords.words(\"english\")) # gets all english stopwords\n",
    "stop_words.update([\".\", \",\", \"The\"])  # adds xtra stopwords, based on what we want\n",
    "\n",
    "print(stop_words)"
   ]
  },
  {
   "cell_type": "code",
   "execution_count": 39,
   "metadata": {},
   "outputs": [
    {
     "name": "stdout",
     "output_type": "stream",
     "text": [
      "['marie', 'skå‚odowska', 'curie', 'born', 'maria', 'salomea', 'skå‚odowska', 'polish', 'naturalized-french', 'physicist', 'chemist', 'conducted', 'pioneering', 'research', 'radioactivity.', 'first', 'curie', 'family', 'legacy', 'five', 'nobel', 'prizes,', 'first', 'woman', 'win', 'nobel', 'prize,', 'first', 'person', 'woman', 'win', 'nobel', 'prize', 'twice,', 'person', 'win', 'nobel', 'prize', 'two', 'scientific', 'fields.', 'first', 'woman', 'become', 'professor', 'university', 'paris', '1906.[4]', 'born', 'warsaw,', 'kingdom', 'poland,', 'part', 'russian', 'empire.', 'studied', \"warsaw's\", 'clandestine', 'flying', 'university', 'began', 'practical', 'scientific', 'training', 'warsaw.', '1891,', 'aged', '24,', 'followed', 'elder', 'sister', 'broniså‚awa', 'study', 'paris,', 'earned', 'higher', 'degrees', 'conducted', 'subsequent', 'scientific', 'work.', '1895', 'married', 'french', 'physicist', 'pierre', 'curie,', 'shared', '1903', 'nobel', 'prize', 'physics', 'physicist', 'henri', 'becquerel', 'pioneering', 'work', 'developing', 'theory', '\"radioactivity\"â€”a', 'term', 'coined.[5][6]', '1906', 'pierre', 'curie', 'died', 'paris', 'street', 'accident.', 'marie', '1911', 'nobel', 'prize', 'chemistry', 'discovery', 'elements', 'polonium', 'radium,', 'using', 'techniques', 'invented', 'isolating', 'radioactive', 'isotopes.', 'direction,', \"world's\", 'first', 'studies', 'conducted', 'treatment', 'neoplasms', 'use', 'radioactive', 'isotopes.', '1920', 'founded', 'curie', 'institute', 'paris,', '1932', 'curie', 'institute', 'warsaw;', 'remain', 'major', 'centres', 'medical', 'research.', 'world', 'war', 'developed', 'mobile', 'radiography', 'units', 'provide', 'x-ray', 'services', 'field', 'hospitals.', 'french', 'citizen,', 'marie', 'skå‚odowska', 'curie,', 'used', 'surnames,[7][8]', 'never', 'lost', 'sense', 'polish', 'identity.', 'taught', 'daughters', 'polish', 'language', 'took', 'visits', 'poland.[9]', 'named', 'first', 'chemical', 'element', 'discovered', 'polonium,', 'native', 'country.[a]', 'marie', 'curie', 'died', '1934,', 'aged', '66,', 'sancellemoz', 'sanatorium', 'passy', '(haute-savoie),', 'france,', 'aplastic', 'anaemia', 'exposure', 'radiation', 'course', 'scientific', 'research', 'course', 'radiological', 'work', 'field', 'hospitals', 'world', 'war', 'i.[11]', 'addition', 'nobel', 'prizes,', 'received', 'numerous', 'honours', 'tributes;', '1995', 'became', 'first', 'woman', 'entombed', 'merits', \"paris'\", 'panthã©on,[12]', 'poland', 'france', 'declared', '2011', 'year', 'marie', 'curie', 'international', 'year', 'chemistry.', 'subject', 'numerous', 'biographical', 'works,', 'also', 'known', 'madame', 'curie.']\n"
     ]
    }
   ],
   "source": [
    "# gets words that are stop words from original text\n",
    "filtered_words = []\n",
    "for w in word_tokens:\n",
    "    if(w not in stop_words):\n",
    "        filtered_words.append(w)\n",
    "        \n",
    "print(filtered_words)"
   ]
  },
  {
   "cell_type": "code",
   "execution_count": 41,
   "metadata": {},
   "outputs": [
    {
     "data": {
      "text/plain": [
       "[('curie', 7),\n",
       " ('first', 7),\n",
       " ('nobel', 7),\n",
       " ('marie', 5),\n",
       " ('woman', 4),\n",
       " ('prize', 4),\n",
       " ('scientific', 4),\n",
       " ('skå‚odowska', 3),\n",
       " ('polish', 3),\n",
       " ('physicist', 3),\n",
       " ('conducted', 3),\n",
       " ('win', 3),\n",
       " ('born', 2),\n",
       " ('pioneering', 2),\n",
       " ('research', 2),\n",
       " ('prizes,', 2),\n",
       " ('person', 2),\n",
       " ('university', 2),\n",
       " ('paris', 2),\n",
       " ('aged', 2)]"
      ]
     },
     "execution_count": 41,
     "metadata": {},
     "output_type": "execute_result"
    }
   ],
   "source": [
    "freq_dist = FreqDist(filtered_words)\n",
    "\n",
    "freq_dist.most_common(20)"
   ]
  },
  {
   "cell_type": "code",
   "execution_count": 42,
   "metadata": {},
   "outputs": [
    {
     "data": {
      "image/png": "[encoded data removed]",
      "text/plain": [
       "<Figure size 576x576 with 1 Axes>"
      ]
     },
     "metadata": {
      "needs_background": "light"
     },
     "output_type": "display_data"
    }
   ],
   "source": [
    "import matplotlib.pyplot as plt\n",
    "\n",
    "fig, ax = plt.subplots(figsize = (8, 8))\n",
    "\n",
    "freq_dist.plot(20, cumulative = False)\n",
    "\n",
    "plt.show();"
   ]
  },
  {
   "cell_type": "code",
   "execution_count": null,
   "metadata": {},
   "outputs": [],
   "source": []
  },
  {
   "cell_type": "code",
   "execution_count": null,
   "metadata": {},
   "outputs": [],
   "source": []
  },
  {
   "cell_type": "code",
   "execution_count": null,
   "metadata": {},
   "outputs": [],
   "source": []
  },
  {
   "cell_type": "code",
   "execution_count": null,
   "metadata": {},
   "outputs": [],
   "source": []
  },
  {
   "cell_type": "code",
   "execution_count": null,
   "metadata": {},
   "outputs": [],
   "source": []
  },
  {
   "cell_type": "code",
   "execution_count": null,
   "metadata": {},
   "outputs": [],
   "source": []
  },
  {
   "cell_type": "code",
   "execution_count": null,
   "metadata": {},
   "outputs": [],
   "source": []
  },
  {
   "cell_type": "code",
   "execution_count": null,
   "metadata": {},
   "outputs": [],
   "source": []
  },
  {
   "cell_type": "code",
   "execution_count": null,
   "metadata": {},
   "outputs": [],
   "source": []
  },
  {
   "cell_type": "code",
   "execution_count": null,
   "metadata": {},
   "outputs": [],
   "source": []
  },
  {
   "cell_type": "code",
   "execution_count": null,
   "metadata": {},
   "outputs": [],
   "source": []
  },
  {
   "cell_type": "code",
   "execution_count": null,
   "metadata": {},
   "outputs": [],
   "source": []
  },
  {
   "cell_type": "code",
   "execution_count": null,
   "metadata": {},
   "outputs": [],
   "source": []
  },
  {
   "cell_type": "code",
   "execution_count": null,
   "metadata": {},
   "outputs": [],
   "source": []
  },
  {
   "cell_type": "code",
   "execution_count": null,
   "metadata": {},
   "outputs": [],
   "source": []
  },
  {
   "cell_type": "code",
   "execution_count": null,
   "metadata": {},
   "outputs": [],
   "source": []
  },
  {
   "cell_type": "code",
   "execution_count": null,
   "metadata": {},
   "outputs": [],
   "source": []
  },
  {
   "cell_type": "code",
   "execution_count": null,
   "metadata": {},
   "outputs": [],
   "source": []
  },
  {
   "cell_type": "code",
   "execution_count": null,
   "metadata": {},
   "outputs": [],
   "source": []
  },
  {
   "cell_type": "code",
   "execution_count": null,
   "metadata": {},
   "outputs": [],
   "source": []
  },
  {
   "cell_type": "code",
   "execution_count": null,
   "metadata": {},
   "outputs": [],
   "source": []
  },
  {
   "cell_type": "code",
   "execution_count": null,
   "metadata": {},
   "outputs": [],
   "source": []
  },
  {
   "cell_type": "code",
   "execution_count": null,
   "metadata": {},
   "outputs": [],
   "source": []
  },
  {
   "cell_type": "code",
   "execution_count": null,
   "metadata": {},
   "outputs": [],
   "source": []
  },
  {
   "cell_type": "code",
   "execution_count": null,
   "metadata": {},
   "outputs": [],
   "source": []
  },
  {
   "cell_type": "code",
   "execution_count": null,
   "metadata": {},
   "outputs": [],
   "source": []
  },
  {
   "cell_type": "code",
   "execution_count": null,
   "metadata": {},
   "outputs": [],
   "source": []
  },
  {
   "cell_type": "code",
   "execution_count": null,
   "metadata": {},
   "outputs": [],
   "source": []
  },
  {
   "cell_type": "code",
   "execution_count": null,
   "metadata": {},
   "outputs": [],
   "source": []
  }
 ],
 "metadata": {
  "kernelspec": {
   "display_name": "Python 3",
   "language": "python",
   "name": "python3"
  },
  "language_info": {
   "codemirror_mode": {
    "name": "ipython",
    "version": 3
   },
   "file_extension": ".py",
   "mimetype": "text/x-python",
   "name": "python",
   "nbconvert_exporter": "python",
   "pygments_lexer": "ipython3",
   "version": "3.8.5"
  }
 },
 "nbformat": 4,
 "nbformat_minor": 4
}
