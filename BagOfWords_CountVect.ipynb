{
 "cells": [
  {
   "cell_type": "code",
   "execution_count": 1,
   "metadata": {},
   "outputs": [],
   "source": [
    "# 2nd\n",
    "\n",
    "import sklearn\n",
    "from sklearn.feature_extraction.text import CountVectorizer"
   ]
  },
  {
   "cell_type": "code",
   "execution_count": 2,
   "metadata": {},
   "outputs": [],
   "source": [
    "train_text = [\"A bird in hand is worth two in a bush.\",\n",
    "             \"Good things come to those who grind.\",\n",
    "             \"Those Airforces cost $120.\",\n",
    "             \"There are other fishes in the sea.\",\n",
    "             \"The ball is in your court.\",\n",
    "             \"Mr. Lionel goes to Paris.\",\n",
    "             \"Doogle Howser M.D.\"]\n",
    "\n",
    "count_vectorizer = CountVectorizer()"
   ]
  },
  {
   "cell_type": "code",
   "execution_count": 3,
   "metadata": {},
   "outputs": [
    {
     "data": {
      "text/plain": [
       "CountVectorizer()"
      ]
     },
     "execution_count": 3,
     "metadata": {},
     "output_type": "execute_result"
    }
   ],
   "source": [
    "count_vectorizer.fit(train_text)"
   ]
  },
  {
   "cell_type": "code",
   "execution_count": 6,
   "metadata": {},
   "outputs": [
    {
     "data": {
      "text/plain": [
       "['120',\n",
       " 'airforces',\n",
       " 'are',\n",
       " 'ball',\n",
       " 'bird',\n",
       " 'bush',\n",
       " 'come',\n",
       " 'cost',\n",
       " 'court',\n",
       " 'doogle',\n",
       " 'fishes',\n",
       " 'goes',\n",
       " 'good',\n",
       " 'grind',\n",
       " 'hand',\n",
       " 'howser',\n",
       " 'in',\n",
       " 'is',\n",
       " 'lionel',\n",
       " 'mr',\n",
       " 'other',\n",
       " 'paris',\n",
       " 'sea',\n",
       " 'the',\n",
       " 'there',\n",
       " 'things',\n",
       " 'those',\n",
       " 'to',\n",
       " 'two',\n",
       " 'who',\n",
       " 'worth',\n",
       " 'your']"
      ]
     },
     "execution_count": 6,
     "metadata": {},
     "output_type": "execute_result"
    }
   ],
   "source": [
    "# gets all word tokens that count_vect has found\n",
    "count_vectorizer.get_feature_names()"
   ]
  },
  {
   "cell_type": "code",
   "execution_count": 7,
   "metadata": {},
   "outputs": [],
   "source": [
    "# gives nothing since we didn't specify to remove stop words\n",
    "count_vectorizer.get_stop_words()"
   ]
  },
  {
   "cell_type": "code",
   "execution_count": 8,
   "metadata": {},
   "outputs": [
    {
     "data": {
      "text/plain": [
       "{'bird': 4,\n",
       " 'in': 16,\n",
       " 'hand': 14,\n",
       " 'is': 17,\n",
       " 'worth': 30,\n",
       " 'two': 28,\n",
       " 'bush': 5,\n",
       " 'good': 12,\n",
       " 'things': 25,\n",
       " 'come': 6,\n",
       " 'to': 27,\n",
       " 'those': 26,\n",
       " 'who': 29,\n",
       " 'grind': 13,\n",
       " 'airforces': 1,\n",
       " 'cost': 7,\n",
       " '120': 0,\n",
       " 'there': 24,\n",
       " 'are': 2,\n",
       " 'other': 20,\n",
       " 'fishes': 10,\n",
       " 'the': 23,\n",
       " 'sea': 22,\n",
       " 'ball': 3,\n",
       " 'your': 31,\n",
       " 'court': 8,\n",
       " 'mr': 19,\n",
       " 'lionel': 18,\n",
       " 'goes': 11,\n",
       " 'paris': 21,\n",
       " 'doogle': 9,\n",
       " 'howser': 15}"
      ]
     },
     "execution_count": 8,
     "metadata": {},
     "output_type": "execute_result"
    }
   ],
   "source": [
    "# gets word found by count vect and int mapping(this is entire corpus to be used to transform new text)\n",
    "count_vectorizer.vocabulary_"
   ]
  },
  {
   "cell_type": "code",
   "execution_count": 9,
   "metadata": {},
   "outputs": [
    {
     "data": {
      "text/plain": [
       "19"
      ]
     },
     "execution_count": 9,
     "metadata": {},
     "output_type": "execute_result"
    }
   ],
   "source": [
    "# get num id of just a wod\n",
    "count_vectorizer.vocabulary_.get(\"mr\")"
   ]
  },
  {
   "cell_type": "code",
   "execution_count": 16,
   "metadata": {},
   "outputs": [],
   "source": [
    "# gets bag of words rep of the word encoding.\n",
    "transformed_vector = count_vectorizer.transform(train_text)"
   ]
  },
  {
   "cell_type": "code",
   "execution_count": 17,
   "metadata": {},
   "outputs": [
    {
     "name": "stdout",
     "output_type": "stream",
     "text": [
      "(7, 32)\n"
     ]
    }
   ],
   "source": [
    "print(transformed_vector.shape)  # rows number of sentences and col(33), vocab on which count vect was trained"
   ]
  },
  {
   "cell_type": "code",
   "execution_count": 18,
   "metadata": {},
   "outputs": [
    {
     "name": "stdout",
     "output_type": "stream",
     "text": [
      "[[0 0 0 0 1 1 0 0 0 0 0 0 0 0 1 0 2 1 0 0 0 0 0 0 0 0 0 0 1 0 1 0]\n",
      " [0 0 0 0 0 0 1 0 0 0 0 0 1 1 0 0 0 0 0 0 0 0 0 0 0 1 1 1 0 1 0 0]\n",
      " [1 1 0 0 0 0 0 1 0 0 0 0 0 0 0 0 0 0 0 0 0 0 0 0 0 0 1 0 0 0 0 0]\n",
      " [0 0 1 0 0 0 0 0 0 0 1 0 0 0 0 0 1 0 0 0 1 0 1 1 1 0 0 0 0 0 0 0]\n",
      " [0 0 0 1 0 0 0 0 1 0 0 0 0 0 0 0 1 1 0 0 0 0 0 1 0 0 0 0 0 0 0 1]\n",
      " [0 0 0 0 0 0 0 0 0 0 0 1 0 0 0 0 0 0 1 1 0 1 0 0 0 0 0 1 0 0 0 0]\n",
      " [0 0 0 0 0 0 0 0 0 1 0 0 0 0 0 1 0 0 0 0 0 0 0 0 0 0 0 0 0 0 0 0]]\n"
     ]
    }
   ],
   "source": [
    "print(transformed_vector.toarray())"
   ]
  },
  {
   "cell_type": "code",
   "execution_count": 20,
   "metadata": {},
   "outputs": [
    {
     "data": {
      "text/plain": [
       "array([[0, 0, 0, 0, 0, 0, 0, 0, 0, 0, 0, 0, 0, 0, 0, 0, 0, 0, 0, 0, 0, 0,\n",
       "        0, 0, 0, 0, 0, 0, 0, 0, 0, 0]], dtype=int64)"
      ]
     },
     "execution_count": 20,
     "metadata": {},
     "output_type": "execute_result"
    }
   ],
   "source": [
    "test_text = [\"Every cloud has a silver lining.\"]\n",
    "\n",
    "count_vectorizer.transform(test_text).toarray()  # since count vect hasn't seen it b4 feature vect is all zeros"
   ]
  },
  {
   "cell_type": "code",
   "execution_count": 21,
   "metadata": {},
   "outputs": [
    {
     "data": {
      "text/plain": [
       "CountVectorizer()"
      ]
     },
     "execution_count": 21,
     "metadata": {},
     "output_type": "execute_result"
    }
   ],
   "source": [
    "# train count vector with train and test text\n",
    "count_vectorizer.fit(train_text + test_text)"
   ]
  },
  {
   "cell_type": "code",
   "execution_count": 22,
   "metadata": {},
   "outputs": [
    {
     "name": "stdout",
     "output_type": "stream",
     "text": [
      "{'bird': 4, 'in': 19, 'hand': 16, 'is': 20, 'worth': 35, 'two': 33, 'bush': 5, 'good': 14, 'things': 30, 'come': 7, 'to': 32, 'those': 31, 'who': 34, 'grind': 15, 'airforces': 1, 'cost': 8, '120': 0, 'there': 29, 'are': 2, 'other': 24, 'fishes': 12, 'the': 28, 'sea': 26, 'ball': 3, 'your': 36, 'court': 9, 'mr': 23, 'lionel': 22, 'goes': 13, 'paris': 25, 'doogle': 10, 'howser': 18, 'every': 11, 'cloud': 6, 'has': 17, 'silver': 27, 'lining': 21}\n"
     ]
    }
   ],
   "source": [
    "print(count_vectorizer.vocabulary_)"
   ]
  },
  {
   "cell_type": "code",
   "execution_count": 23,
   "metadata": {},
   "outputs": [
    {
     "data": {
      "text/plain": [
       "array([[0, 0, 0, 0, 0, 0, 1, 0, 0, 0, 0, 1, 0, 0, 0, 0, 0, 1, 0, 0, 0, 1,\n",
       "        0, 0, 0, 0, 0, 1, 0, 0, 0, 0, 0, 0, 0, 0, 0]], dtype=int64)"
      ]
     },
     "execution_count": 23,
     "metadata": {},
     "output_type": "execute_result"
    }
   ],
   "source": [
    "count_vectorizer.transform(test_text).toarray()"
   ]
  },
  {
   "cell_type": "code",
   "execution_count": 25,
   "metadata": {},
   "outputs": [
    {
     "data": {
      "text/plain": [
       "<3x37 sparse matrix of type '<class 'numpy.int64'>'\n",
       "\twith 7 stored elements in Compressed Sparse Row format>"
      ]
     },
     "execution_count": 25,
     "metadata": {},
     "output_type": "execute_result"
    }
   ],
   "source": [
    "# contains some words known to count vect and some that are unknown\n",
    "text = [\"That bird is sitting in the bush and this bird is in hand.\",\n",
    "       \"Wait and then walk\",\n",
    "       \"Watches are cool\"]\n",
    "\n",
    "transformed_vector = count_vectorizer.transform(text)\n",
    "\n",
    "transformed_vector # sparse mat means matrix contains entries for only words present in particular sentence"
   ]
  },
  {
   "cell_type": "code",
   "execution_count": 26,
   "metadata": {},
   "outputs": [
    {
     "name": "stdout",
     "output_type": "stream",
     "text": [
      "  (0, 4)\t2\n",
      "  (0, 5)\t1\n",
      "  (0, 16)\t1\n",
      "  (0, 19)\t2\n",
      "  (0, 20)\t2\n",
      "  (0, 28)\t1\n",
      "  (2, 2)\t1\n"
     ]
    }
   ],
   "source": [
    "# first col in tuple is sentence, second col in tuple is id of word\n",
    "# last col is for the frequency of the word\n",
    "\n",
    "print(transformed_vector)"
   ]
  },
  {
   "cell_type": "code",
   "execution_count": 27,
   "metadata": {},
   "outputs": [
    {
     "name": "stdout",
     "output_type": "stream",
     "text": [
      "Marie SkÅ‚odowska Curie  born Maria Salomea SkÅ‚odowska , was a Polish and naturalized-French physicist and chemist who conducted pioneering research on radioactivity. As the first of the Curie family legacy of five Nobel Prizes, she was the first woman to win a Nobel Prize, the first person and the only woman to win the Nobel Prize twice, and the only person to win the Nobel Prize in two scientific fields. She was the first woman to become a professor at the University of Paris in 1906.[4]\n",
      "\n",
      "She was born in Warsaw, in what was then the Kingdom of Poland, part of the Russian Empire. She studied at Warsaw's clandestine Flying University and began her practical scientific training in Warsaw. In 1891, aged 24, she followed her elder sister BronisÅ‚awa to study in Paris, where she earned her higher degrees and conducted her subsequent scientific work. In 1895 she married the French physicist Pierre Curie, and she shared the 1903 Nobel Prize in Physics with him and with the physicist Henri Becquerel for their pioneering work developing the theory of \"radioactivity\"â€”a term she coined.[5][6] In 1906 Pierre Curie died in a Paris street accident. Marie won the 1911 Nobel Prize in Chemistry for her discovery of the elements polonium and radium, using techniques she invented for isolating radioactive isotopes.\n",
      "\n",
      "Under her direction, the world's first studies were conducted into the treatment of neoplasms by the use of radioactive isotopes. In 1920 she founded the Curie Institute in Paris, and in 1932 the Curie Institute in Warsaw; both remain major centres of medical research. During World War I she developed mobile radiography units to provide X-ray services to field hospitals. While a French citizen, Marie SkÅ‚odowska Curie, who used both surnames,[7][8] never lost her sense of Polish identity. She taught her daughters the Polish language and took them on visits to Poland.[9] She named the first chemical element she discovered polonium, after her native country.[a]\n",
      "\n",
      "Marie Curie died in 1934, aged 66, at the Sancellemoz sanatorium in Passy (Haute-Savoie), France, of aplastic anaemia from exposure to radiation in the course of her scientific research and in the course of her radiological work at field hospitals during World War I.[11] In addition to her Nobel Prizes, she has received numerous other honours and tributes; in 1995 she became the first woman to be entombed on her own merits in Paris' PanthÃ©on,[12] and Poland and France declared 2011 as the Year of Marie Curie during the International Year of Chemistry. She is the subject of numerous biographical works, where she is also known as Madame Curie. \n"
     ]
    }
   ],
   "source": [
    "# using bag of words to rep text stored in file\n",
    "with open(\"./datasets/biography.txt\", \"r\") as file:\n",
    "    file_contents = file.read()\n",
    "    \n",
    "print(file_contents)"
   ]
  },
  {
   "cell_type": "code",
   "execution_count": 28,
   "metadata": {},
   "outputs": [
    {
     "name": "stdout",
     "output_type": "stream",
     "text": [
      "['Marie SkÅ‚odowska Curie  born Maria Salomea SkÅ‚odowska , was a Polish and naturalized-French physicist and chemist who conducted pioneering research on radioactivity. As the first of the Curie family legacy of five Nobel Prizes, she was the first woman to win a Nobel Prize, the first person and the only woman to win the Nobel Prize twice, and the only person to win the Nobel Prize in two scientific fields. She was the first woman to become a professor at the University of Paris in 1906.[4]', '', 'She was born in Warsaw, in what was then the Kingdom of Poland, part of the Russian Empire. She studied at Warsaw\\'s clandestine Flying University and began her practical scientific training in Warsaw. In 1891, aged 24, she followed her elder sister BronisÅ‚awa to study in Paris, where she earned her higher degrees and conducted her subsequent scientific work. In 1895 she married the French physicist Pierre Curie, and she shared the 1903 Nobel Prize in Physics with him and with the physicist Henri Becquerel for their pioneering work developing the theory of \"radioactivity\"â€”a term she coined.[5][6] In 1906 Pierre Curie died in a Paris street accident. Marie won the 1911 Nobel Prize in Chemistry for her discovery of the elements polonium and radium, using techniques she invented for isolating radioactive isotopes.', '', \"Under her direction, the world's first studies were conducted into the treatment of neoplasms by the use of radioactive isotopes. In 1920 she founded the Curie Institute in Paris, and in 1932 the Curie Institute in Warsaw; both remain major centres of medical research. During World War I she developed mobile radiography units to provide X-ray services to field hospitals. While a French citizen, Marie SkÅ‚odowska Curie, who used both surnames,[7][8] never lost her sense of Polish identity. She taught her daughters the Polish language and took them on visits to Poland.[9] She named the first chemical element she discovered polonium, after her native country.[a]\", '', \"Marie Curie died in 1934, aged 66, at the Sancellemoz sanatorium in Passy (Haute-Savoie), France, of aplastic anaemia from exposure to radiation in the course of her scientific research and in the course of her radiological work at field hospitals during World War I.[11] In addition to her Nobel Prizes, she has received numerous other honours and tributes; in 1995 she became the first woman to be entombed on her own merits in Paris' PanthÃ©on,[12] and Poland and France declared 2011 as the Year of Marie Curie during the International Year of Chemistry. She is the subject of numerous biographical works, where she is also known as Madame Curie. \"]\n"
     ]
    }
   ],
   "source": [
    "# splits text into sentences for easy use with countVect, could have used sentences tokenizer\n",
    "# especially in real world projects\n",
    "sentences = file_contents.split(\"\\n\")\n",
    "\n",
    "print(sentences)"
   ]
  },
  {
   "cell_type": "code",
   "execution_count": 29,
   "metadata": {},
   "outputs": [
    {
     "data": {
      "text/plain": [
       "(7, 202)"
      ]
     },
     "execution_count": 29,
     "metadata": {},
     "output_type": "execute_result"
    }
   ],
   "source": [
    "transformed_vector = count_vectorizer.fit_transform(sentences)\n",
    "\n",
    "transformed_vector.shape"
   ]
  },
  {
   "cell_type": "code",
   "execution_count": 30,
   "metadata": {},
   "outputs": [
    {
     "name": "stdout",
     "output_type": "stream",
     "text": [
      "  (0, 100)\t1\n",
      "  (0, 156)\t2\n",
      "  (0, 112)\t2\n",
      "  (0, 45)\t2\n",
      "  (0, 31)\t1\n",
      "  (0, 99)\t1\n",
      "  (0, 146)\t1\n",
      "  (0, 188)\t3\n",
      "  (0, 128)\t1\n",
      "  (0, 20)\t4\n",
      "  (0, 107)\t1\n",
      "  (0, 73)\t1\n",
      "  (0, 123)\t1\n",
      "  (0, 37)\t1\n",
      "  (0, 193)\t1\n",
      "  (0, 42)\t1\n",
      "  (0, 126)\t1\n",
      "  (0, 144)\t1\n",
      "  (0, 114)\t1\n",
      "  (0, 137)\t1\n",
      "  (0, 22)\t1\n",
      "  (0, 167)\t10\n",
      "  (0, 66)\t4\n",
      "  (0, 113)\t3\n",
      "  (0, 63)\t1\n",
      "  :\t:\n",
      "  (6, 75)\t1\n",
      "  (6, 142)\t1\n",
      "  (6, 111)\t2\n",
      "  (6, 116)\t1\n",
      "  (6, 81)\t1\n",
      "  (6, 176)\t1\n",
      "  (6, 10)\t1\n",
      "  (6, 26)\t1\n",
      "  (6, 25)\t1\n",
      "  (6, 61)\t1\n",
      "  (6, 117)\t1\n",
      "  (6, 103)\t1\n",
      "  (6, 118)\t1\n",
      "  (6, 1)\t1\n",
      "  (6, 47)\t1\n",
      "  (6, 11)\t1\n",
      "  (6, 201)\t2\n",
      "  (6, 86)\t1\n",
      "  (6, 89)\t2\n",
      "  (6, 161)\t1\n",
      "  (6, 30)\t1\n",
      "  (6, 199)\t1\n",
      "  (6, 18)\t1\n",
      "  (6, 93)\t1\n",
      "  (6, 97)\t1\n"
     ]
    }
   ],
   "source": [
    "print(transformed_vector)"
   ]
  },
  {
   "cell_type": "code",
   "execution_count": 31,
   "metadata": {},
   "outputs": [
    {
     "name": "stdout",
     "output_type": "stream",
     "text": [
      "{'marie': 100, 'skå': 156, 'odowska': 112, 'curie': 45, 'born': 31, 'maria': 99, 'salomea': 146, 'was': 188, 'polish': 128, 'and': 20, 'naturalized': 107, 'french': 73, 'physicist': 123, 'chemist': 37, 'who': 193, 'conducted': 42, 'pioneering': 126, 'research': 144, 'on': 114, 'radioactivity': 137, 'as': 22, 'the': 167, 'first': 66, 'of': 113, 'family': 63, 'legacy': 95, 'five': 67, 'nobel': 110, 'prizes': 132, 'she': 154, 'woman': 196, 'to': 172, 'win': 194, 'prize': 131, 'person': 122, 'only': 115, 'twice': 177, 'in': 84, 'two': 178, 'scientific': 150, 'fields': 65, 'become': 27, 'professor': 133, 'at': 23, 'university': 181, 'paris': 119, '1906': 5, 'warsaw': 187, 'what': 190, 'then': 170, 'kingdom': 92, 'poland': 127, 'part': 120, 'russian': 145, 'empire': 60, 'studied': 158, 'clandestine': 40, 'flying': 68, 'began': 29, 'her': 78, 'practical': 130, 'training': 174, '1891': 2, 'aged': 17, '24': 12, 'followed': 69, 'elder': 57, 'sister': 155, 'broniså': 33, 'awa': 24, 'study': 160, 'where': 191, 'earned': 56, 'higher': 79, 'degrees': 48, 'subsequent': 162, 'work': 198, '1895': 3, 'married': 101, 'pierre': 125, 'shared': 153, '1903': 4, 'physics': 124, 'with': 195, 'him': 80, 'henri': 77, 'becquerel': 28, 'for': 70, 'their': 168, 'developing': 50, 'theory': 171, 'term': 166, 'coined': 41, 'died': 51, 'street': 157, 'accident': 14, 'won': 197, '1911': 6, 'chemistry': 38, 'discovery': 54, 'elements': 59, 'polonium': 129, 'radium': 140, 'using': 184, 'techniques': 165, 'invented': 88, 'isolating': 90, 'radioactive': 136, 'isotopes': 91, 'under': 179, 'direction': 52, 'world': 200, 'studies': 159, 'were': 189, 'into': 87, 'treatment': 175, 'neoplasms': 108, 'by': 34, 'use': 182, '1920': 7, 'founded': 71, 'institute': 85, '1932': 8, 'both': 32, 'remain': 143, 'major': 98, 'centres': 35, 'medical': 102, 'during': 55, 'war': 186, 'developed': 49, 'mobile': 104, 'radiography': 138, 'units': 180, 'provide': 134, 'ray': 141, 'services': 152, 'field': 64, 'hospitals': 82, 'while': 192, 'citizen': 39, 'used': 183, 'surnames': 163, 'never': 109, 'lost': 96, 'sense': 151, 'identity': 83, 'taught': 164, 'daughters': 46, 'language': 94, 'took': 173, 'them': 169, 'visits': 185, 'named': 105, 'chemical': 36, 'element': 58, 'discovered': 53, 'after': 16, 'native': 106, 'country': 43, '1934': 9, '66': 13, 'sancellemoz': 148, 'sanatorium': 147, 'passy': 121, 'haute': 76, 'savoie': 149, 'france': 72, 'aplastic': 21, 'anaemia': 19, 'from': 74, 'exposure': 62, 'radiation': 135, 'course': 44, 'radiological': 139, '11': 0, 'addition': 15, 'has': 75, 'received': 142, 'numerous': 111, 'other': 116, 'honours': 81, 'tributes': 176, '1995': 10, 'became': 26, 'be': 25, 'entombed': 61, 'own': 117, 'merits': 103, 'panthã': 118, '12': 1, 'declared': 47, '2011': 11, 'year': 201, 'international': 86, 'is': 89, 'subject': 161, 'biographical': 30, 'works': 199, 'also': 18, 'known': 93, 'madame': 97}\n"
     ]
    }
   ],
   "source": [
    "print(count_vectorizer.vocabulary_)"
   ]
  },
  {
   "cell_type": "code",
   "execution_count": 32,
   "metadata": {},
   "outputs": [
    {
     "data": {
      "text/plain": [
       "[array(['marie', 'skå', 'odowska', 'curie', 'born', 'maria', 'salomea',\n",
       "        'was', 'polish', 'and', 'naturalized', 'french', 'physicist',\n",
       "        'chemist', 'who', 'conducted', 'pioneering', 'research', 'on',\n",
       "        'radioactivity', 'as', 'the', 'first', 'of', 'family', 'legacy',\n",
       "        'five', 'nobel', 'prizes', 'she', 'woman', 'to', 'win', 'prize',\n",
       "        'person', 'only', 'twice', 'in', 'two', 'scientific', 'fields',\n",
       "        'become', 'professor', 'at', 'university', 'paris', '1906'],\n",
       "       dtype='<U13'),\n",
       " array([], dtype='<U13'),\n",
       " array(['marie', 'curie', 'born', 'was', 'and', 'french', 'physicist',\n",
       "        'conducted', 'pioneering', 'radioactivity', 'the', 'of', 'nobel',\n",
       "        'she', 'to', 'prize', 'in', 'scientific', 'at', 'university',\n",
       "        'paris', '1906', 'warsaw', 'what', 'then', 'kingdom', 'poland',\n",
       "        'part', 'russian', 'empire', 'studied', 'clandestine', 'flying',\n",
       "        'began', 'her', 'practical', 'training', '1891', 'aged', '24',\n",
       "        'followed', 'elder', 'sister', 'broniså', 'awa', 'study', 'where',\n",
       "        'earned', 'higher', 'degrees', 'subsequent', 'work', '1895',\n",
       "        'married', 'pierre', 'shared', '1903', 'physics', 'with', 'him',\n",
       "        'henri', 'becquerel', 'for', 'their', 'developing', 'theory',\n",
       "        'term', 'coined', 'died', 'street', 'accident', 'won', '1911',\n",
       "        'chemistry', 'discovery', 'elements', 'polonium', 'radium',\n",
       "        'using', 'techniques', 'invented', 'isolating', 'radioactive',\n",
       "        'isotopes'], dtype='<U13'),\n",
       " array([], dtype='<U13'),\n",
       " array(['marie', 'skå', 'odowska', 'curie', 'polish', 'and', 'french',\n",
       "        'who', 'conducted', 'research', 'on', 'the', 'first', 'of', 'she',\n",
       "        'to', 'in', 'paris', 'warsaw', 'poland', 'her', 'polonium',\n",
       "        'radioactive', 'isotopes', 'under', 'direction', 'world',\n",
       "        'studies', 'were', 'into', 'treatment', 'neoplasms', 'by', 'use',\n",
       "        '1920', 'founded', 'institute', '1932', 'both', 'remain', 'major',\n",
       "        'centres', 'medical', 'during', 'war', 'developed', 'mobile',\n",
       "        'radiography', 'units', 'provide', 'ray', 'services', 'field',\n",
       "        'hospitals', 'while', 'citizen', 'used', 'surnames', 'never',\n",
       "        'lost', 'sense', 'identity', 'taught', 'daughters', 'language',\n",
       "        'took', 'them', 'visits', 'named', 'chemical', 'element',\n",
       "        'discovered', 'after', 'native', 'country'], dtype='<U13'),\n",
       " array([], dtype='<U13'),\n",
       " array(['marie', 'curie', 'and', 'research', 'on', 'as', 'the', 'first',\n",
       "        'of', 'nobel', 'prizes', 'she', 'woman', 'to', 'in', 'scientific',\n",
       "        'at', 'paris', 'poland', 'her', 'aged', 'where', 'work', 'died',\n",
       "        'chemistry', 'world', 'during', 'war', 'field', 'hospitals',\n",
       "        '1934', '66', 'sancellemoz', 'sanatorium', 'passy', 'haute',\n",
       "        'savoie', 'france', 'aplastic', 'anaemia', 'from', 'exposure',\n",
       "        'radiation', 'course', 'radiological', '11', 'addition', 'has',\n",
       "        'received', 'numerous', 'other', 'honours', 'tributes', '1995',\n",
       "        'became', 'be', 'entombed', 'own', 'merits', 'panthã', '12',\n",
       "        'declared', '2011', 'year', 'international', 'is', 'subject',\n",
       "        'biographical', 'works', 'also', 'known', 'madame'], dtype='<U13')]"
      ]
     },
     "execution_count": 32,
     "metadata": {},
     "output_type": "execute_result"
    }
   ],
   "source": [
    "# tries to ret original sentecnes from it's word count\n",
    "count_vectorizer.inverse_transform(transformed_vector)"
   ]
  },
  {
   "cell_type": "code",
   "execution_count": null,
   "metadata": {},
   "outputs": [],
   "source": []
  },
  {
   "cell_type": "code",
   "execution_count": null,
   "metadata": {},
   "outputs": [],
   "source": []
  },
  {
   "cell_type": "code",
   "execution_count": null,
   "metadata": {},
   "outputs": [],
   "source": []
  },
  {
   "cell_type": "code",
   "execution_count": null,
   "metadata": {},
   "outputs": [],
   "source": []
  },
  {
   "cell_type": "code",
   "execution_count": null,
   "metadata": {},
   "outputs": [],
   "source": []
  },
  {
   "cell_type": "code",
   "execution_count": null,
   "metadata": {},
   "outputs": [],
   "source": []
  },
  {
   "cell_type": "code",
   "execution_count": null,
   "metadata": {},
   "outputs": [],
   "source": []
  },
  {
   "cell_type": "code",
   "execution_count": null,
   "metadata": {},
   "outputs": [],
   "source": []
  },
  {
   "cell_type": "code",
   "execution_count": null,
   "metadata": {},
   "outputs": [],
   "source": []
  },
  {
   "cell_type": "code",
   "execution_count": null,
   "metadata": {},
   "outputs": [],
   "source": []
  },
  {
   "cell_type": "code",
   "execution_count": null,
   "metadata": {},
   "outputs": [],
   "source": []
  },
  {
   "cell_type": "code",
   "execution_count": null,
   "metadata": {},
   "outputs": [],
   "source": []
  },
  {
   "cell_type": "code",
   "execution_count": null,
   "metadata": {},
   "outputs": [],
   "source": []
  },
  {
   "cell_type": "code",
   "execution_count": null,
   "metadata": {},
   "outputs": [],
   "source": []
  },
  {
   "cell_type": "code",
   "execution_count": null,
   "metadata": {},
   "outputs": [],
   "source": []
  },
  {
   "cell_type": "code",
   "execution_count": null,
   "metadata": {},
   "outputs": [],
   "source": []
  },
  {
   "cell_type": "code",
   "execution_count": null,
   "metadata": {},
   "outputs": [],
   "source": []
  },
  {
   "cell_type": "code",
   "execution_count": null,
   "metadata": {},
   "outputs": [],
   "source": []
  },
  {
   "cell_type": "code",
   "execution_count": null,
   "metadata": {},
   "outputs": [],
   "source": []
  },
  {
   "cell_type": "code",
   "execution_count": null,
   "metadata": {},
   "outputs": [],
   "source": []
  },
  {
   "cell_type": "code",
   "execution_count": null,
   "metadata": {},
   "outputs": [],
   "source": []
  },
  {
   "cell_type": "code",
   "execution_count": null,
   "metadata": {},
   "outputs": [],
   "source": []
  },
  {
   "cell_type": "code",
   "execution_count": null,
   "metadata": {},
   "outputs": [],
   "source": []
  },
  {
   "cell_type": "code",
   "execution_count": null,
   "metadata": {},
   "outputs": [],
   "source": []
  },
  {
   "cell_type": "code",
   "execution_count": null,
   "metadata": {},
   "outputs": [],
   "source": []
  },
  {
   "cell_type": "code",
   "execution_count": null,
   "metadata": {},
   "outputs": [],
   "source": []
  },
  {
   "cell_type": "code",
   "execution_count": null,
   "metadata": {},
   "outputs": [],
   "source": []
  },
  {
   "cell_type": "code",
   "execution_count": null,
   "metadata": {},
   "outputs": [],
   "source": []
  },
  {
   "cell_type": "code",
   "execution_count": null,
   "metadata": {},
   "outputs": [],
   "source": []
  },
  {
   "cell_type": "code",
   "execution_count": null,
   "metadata": {},
   "outputs": [],
   "source": []
  },
  {
   "cell_type": "code",
   "execution_count": null,
   "metadata": {},
   "outputs": [],
   "source": []
  },
  {
   "cell_type": "code",
   "execution_count": null,
   "metadata": {},
   "outputs": [],
   "source": []
  },
  {
   "cell_type": "code",
   "execution_count": null,
   "metadata": {},
   "outputs": [],
   "source": []
  },
  {
   "cell_type": "code",
   "execution_count": null,
   "metadata": {},
   "outputs": [],
   "source": []
  }
 ],
 "metadata": {
  "kernelspec": {
   "display_name": "Python 3",
   "language": "python",
   "name": "python3"
  },
  "language_info": {
   "codemirror_mode": {
    "name": "ipython",
    "version": 3
   },
   "file_extension": ".py",
   "mimetype": "text/x-python",
   "name": "python",
   "nbconvert_exporter": "python",
   "pygments_lexer": "ipython3",
   "version": "3.8.5"
  }
 },
 "nbformat": 4,
 "nbformat_minor": 4
}
